{
 "cells": [
  {
   "cell_type": "code",
   "execution_count": 1,
   "metadata": {},
   "outputs": [],
   "source": [
    "#importing libraries\n",
    "import tweepy\n",
    "from textblob import TextBlob\n",
    "import matplotlib.pyplot as plt\n",
    "def percentage(part,whole):\n",
    "        return 100* float(part)/float(whole)"
   ]
  },
  {
   "cell_type": "code",
   "execution_count": 7,
   "metadata": {
    "collapsed": true
   },
   "outputs": [],
   "source": [
    "#consumer_keys='aklgcFQaqCgYY1pWtzUixNSIV'\n",
    "#consumer_secrets='tt5NSjnTrJtbVp0KQ88gvLFGZkQxufc721NrJFkbzytDd9pjcY'\n",
    "#access_token='866913642251341824-0r8tdvfw1CBnZhRgQcNTyPfIhz536N4'\n",
    "#access_token_secret='ll22Ji27mZVbjb01VGBuDDUiMkl7rEHuQqTVCriUrjPJo'\n",
    "consumer_key = 'ATfKfmlU88EffYQzIF8SQhiYX'\n",
    "consumer_secret = 'dy8ao96WUqEFjEGi7dnIEiAT2Vq6EDDkXPOv0k50DcSr9dnwsz'\n",
    "access_token = '180739880-ncdWLjX4vDYfaCh1Foj2dltv6TNOPa31Nxb4zvXy'\n",
    "access_token_secret = '3vevh5nD8Z6IXlHn2XcrD7pnxtMVTZRbwu49rPLVRNW1n'"
   ]
  },
  {
   "cell_type": "code",
   "execution_count": 8,
   "metadata": {},
   "outputs": [],
   "source": [
    "auth =tweepy.OAuthHandler(consumer_key, consumer_secret) #authorization\n",
    "auth.set_access_token(access_token,access_token_secret)"
   ]
  },
  {
   "cell_type": "code",
   "execution_count": 9,
   "metadata": {
    "collapsed": true
   },
   "outputs": [],
   "source": [
    "api=tweepy.API(auth) #APIcalling"
   ]
  },
  {
   "cell_type": "code",
   "execution_count": 10,
   "metadata": {},
   "outputs": [
    {
     "name": "stdout",
     "output_type": "stream",
     "text": [
      "Enter the tag to be searched#sudan\n",
      "Enter the no of tweets to be searched25\n"
     ]
    }
   ],
   "source": [
    "searchTerm= input(\"Enter the tag to be searched\")\n",
    "NoOfTerms= int(input(\"Enter the no of tweets to be searched\"))\n",
    "\n",
    "tweets=tweepy.Cursor(api.search, q=searchTerm).items(NoOfTerms)\n",
    "\n",
    "positive=0\n",
    "negative=0\n",
    "neutral=0\n",
    "polarity=0"
   ]
  },
  {
   "cell_type": "code",
   "execution_count": 11,
   "metadata": {},
   "outputs": [
    {
     "name": "stdout",
     "output_type": "stream",
     "text": [
      "RT @RepDanKildee: Good news! The @HouseForeign Committee just passed my bipartisan #Sudan resolution calling for an end to violence, respec…\n",
      "RT @RepSpanberger: Today, @houseforeign marked up &amp; passed a resolution condemning the attacks on peaceful protesters in #Sudan. I’m proud…\n",
      "@weirdfan1 The Transitional Legislative Assembly and the Transitional Council of Ministers will be required to do a… https://t.co/1EPsVxK1MF\n",
      "RT @HouseForeign: The world cannot turn a blind eye to the #SudanMassacre. Today @HouseForeign unanimously passed a resolution condemning t…\n",
      "@mccullough1888 @historylvrsclub Even if it was *not* an inside job, why did #GeorgeBushJr wait for three whole yea… https://t.co/Ia587JSpXb\n",
      "Beehive Tombs, Old Dongola, Sudan.\n",
      ".\n",
      ".\n",
      ".\n",
      "#Checkoutafrica #Africa #Sudan #ancientafrica 📷 @eric_lafforgue https://t.co/sUbOPG8Kl8\n",
      "@dalliasd @brideOfFacetasm This #internet_blackout_in_sudan will also affect #Sudan's economy. #SudanUprising\n",
      "RT @DaliahVK: #SudanUprising #sudan #berlin https://t.co/YFdnzQ77b9\n",
      "RT @thomas_m_wilson: Friction in #Sudan’s TMC as Hemeti closes in on power - “As a military commander, he does it very well, but as a polit…\n",
      "A great analysis by @chaltad2000 of @Wazemaradio on the current situation in Sudan and geopolitical interests. An e… https://t.co/a01qe8GSjq\n",
      "RT @DaliahVK: #SudanUprising #sudan #berlin https://t.co/YFdnzQ77b9\n",
      "RT @Sputnink_: 🔵@Alagooon per #blueforsudan \n",
      "\n",
      "#sudan #peace #freedom #stayhuman #restiamoumani  #cartoon #politicalcartoon #sputnink https:…\n",
      "Sudanese doctors met with and de-briefed Irish Senators and TDs in the Dail/Parliament in Dublin re extreme violenc… https://t.co/kk8xpPTSIr\n",
      "#internet_blackout_in_sudan\n",
      "#SudanUprising\n",
      "#sudan\n",
      "https://t.co/apZdeENwb2\n",
      "#SudanUprising #Internet_Blackout_in_Sudan\n",
      "#Sudan\n",
      "#IAmTheSudanRevolution\n",
      "#BlueForSudan\n",
      "#BREAKING https://t.co/EFqHS29sye\n",
      "RT @FoOFOmari: #يحدث_الآن 🇸🇩🇯🇴\n",
      "هنا السودان من الأردن\n",
      "Happening now! 🇸🇩🇯🇴\n",
      "Here is #Sudan from #Jordan\n",
      "#BlueForesudan \n",
      "#Amman #Khaberni #Roya…\n",
      "RT @hiba_morgan: \"Sudan’s revolution is in the balance.\"\n",
      "Beautifully written piece by @markweston19 about #Sudan's revolution from its star…\n",
      "RT @thememegenie: You don't need to be a sudan national to raise a voice against this! They are trying to blacklist the internet to hide al…\n",
      "The new #Ethiopia's framework deal seems to be the only available good solution right now. #Sudan #IGAD… https://t.co/2UD3ybiFOK\n",
      "RT @thefacipulator: My heart is filled with LOVE! My friend diana &amp; her friends from 🇨🇴 🇮🇹 🇨🇭 are #WalkingForSudan in their  #SantiagodeCom…\n",
      "RT @joejonas: Please take the time today to read about what is currently happening in #Sudan. The entire country is under a media blackout…\n",
      "RT @kevinjonas: Sending the people of #Sudan my love and prayers. Blocking the internet from an entire country is a human rights violation.\n",
      "RT @nickjonas: We’ve been catching up on everything going on right now in #Sudan. Keeping everyone in my prayers. Take the time today to re…\n",
      "RT @DaliahVK: #SudanUprising #sudan #berlin https://t.co/YFdnzQ77b9\n",
      "Os pedimos que os informéis, que busquéis buenas fuentes de información sobre el tema, ya que los medios de comunic… https://t.co/kwYYilILJP\n"
     ]
    }
   ],
   "source": [
    "for tweet in tweets:\n",
    "    print(tweet.text)\n",
    "    \n",
    "    analysis = TextBlob(tweet.text)\n",
    "    polarity += analysis.sentiment.polarity\n",
    "    if (analysis.sentiment.polarity == 0):\n",
    "        neutral +=1\n",
    "    elif(analysis.sentiment.polarity < 0.00):\n",
    "        negative +=1\n",
    "    elif(analysis.sentiment.polarity > 0.00):\n",
    "        positive +=1    "
   ]
  },
  {
   "cell_type": "code",
   "execution_count": 12,
   "metadata": {
    "collapsed": true
   },
   "outputs": [],
   "source": [
    "positive=percentage(positive, NoOfTerms)\n",
    "negative=percentage(negative, NoOfTerms)\n",
    "neutral=percentage(neutral, NoOfTerms)"
   ]
  },
  {
   "cell_type": "code",
   "execution_count": 15,
   "metadata": {},
   "outputs": [
    {
     "data": {
      "image/png": "[encoded data removed]",
      "text/plain": [
       "<matplotlib.figure.Figure at 0x1d5fbfbe2b0>"
      ]
     },
     "metadata": {},
     "output_type": "display_data"
    }
   ],
   "source": [
    "labels=['positive ['+str(positive)+'%]','negative ['+str(negative)+'%]','neutral ['+str(neutral)+'%]']\n",
    "\n",
    "sizes=[positive,negative,neutral]\n",
    "colors=['green','red','yellow']\n",
    "patches, text=plt.pie(sizes,colors=colors, startangle=90)\n",
    "plt.legend(patches,labels,loc=\"best\")\n",
    "plt.title('How people are reacting on'+searchTerm+'by analysing'+str(NoOfTerms))\n",
    "plt.axis('equal')\n",
    "plt.tight_layout()\n",
    "plt.show()"
   ]
  },
  {
   "cell_type": "code",
   "execution_count": null,
   "metadata": {
    "collapsed": true
   },
   "outputs": [],
   "source": []
  },
  {
   "cell_type": "code",
   "execution_count": null,
   "metadata": {
    "collapsed": true
   },
   "outputs": [],
   "source": []
  },
  {
   "cell_type": "code",
   "execution_count": null,
   "metadata": {
    "collapsed": true
   },
   "outputs": [],
   "source": []
  },
  {
   "cell_type": "code",
   "execution_count": null,
   "metadata": {
    "collapsed": true
   },
   "outputs": [],
   "source": []
  },
  {
   "cell_type": "code",
   "execution_count": null,
   "metadata": {
    "collapsed": true
   },
   "outputs": [],
   "source": []
  }
 ],
 "metadata": {
  "kernelspec": {
   "display_name": "Python 3",
   "language": "python",
   "name": "python3"
  },
  "language_info": {
   "codemirror_mode": {
    "name": "ipython",
    "version": 3
   },
   "file_extension": ".py",
   "mimetype": "text/x-python",
   "name": "python",
   "nbconvert_exporter": "python",
   "pygments_lexer": "ipython3",
   "version": "3.6.3"
  }
 },
 "nbformat": 4,
 "nbformat_minor": 2
}
